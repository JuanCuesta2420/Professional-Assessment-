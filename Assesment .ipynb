{
 "cells": [
  {
   "cell_type": "markdown",
   "id": "8f424782",
   "metadata": {},
   "source": [
    "\n"
   ]
  },
  {
   "cell_type": "markdown",
   "id": "abdc48b4",
   "metadata": {},
   "source": [
    "#### Question 1: Data analysis"
   ]
  },
  {
   "cell_type": "code",
   "execution_count": 3,
   "id": "84f3d949",
   "metadata": {},
   "outputs": [],
   "source": [
    "import numpy as np\n",
    "import pandas as pd\n",
    "\n",
    "# Set a random seed for reproducibility\n",
    "np.random.seed(4400)\n",
    "\n",
    "# Number of samples\n",
    "num_samples = 1000\n",
    "\n",
    "# Create 20 random variables\n",
    "X = pd.DataFrame()\n",
    "for i in np.arange(1, 21):\n",
    "    variable_name = f\"Var{i}\"\n",
    "    X[variable_name] = np.random.rand(1000)\n",
    "\n",
    "# Create a target variable based on some combination of the 20 variables\n",
    "y = (2 * X[\"Var1\"] + 0.5 * X[\"Var5\"] - 1 * X[\"Var10\"] + np.random.normal(0, 0.5, num_samples)  # Add some noise\n",
    "    )"
   ]
  },
  {
   "cell_type": "markdown",
   "id": "fc8cb450",
   "metadata": {},
   "source": [
    "1. Split the data into training and test data. The proportion of train data should be 70%. "
   ]
  },
  {
   "cell_type": "code",
   "execution_count": 56,
   "id": "0e9a600b",
   "metadata": {},
   "outputs": [],
   "source": [
    "import sklearn\n",
    "from sklearn.model_selection import train_test_split\n",
    "\n",
    "X_train, X_test, y_train, y_test = train_test_split(X, y, test_size=0.3, random_state=4400)"
   ]
  },
  {
   "cell_type": "markdown",
   "id": "09dc7c18",
   "metadata": {},
   "source": [
    "2. Fit the model with a linear regression using all the features, report the coefficient table, intercept and MSE. "
   ]
  },
  {
   "cell_type": "code",
   "execution_count": 61,
   "id": "91f20065",
   "metadata": {},
   "outputs": [
    {
     "name": "stdout",
     "output_type": "stream",
     "text": [
      "The MSE is 0.2833049093499735\n",
      "   Variable  Coefficient\n",
      "0     Var20     2.014610\n",
      "1     Var20    -0.081270\n",
      "2     Var20    -0.042229\n",
      "3     Var20     0.040105\n",
      "4     Var20     0.439223\n",
      "5     Var20     0.064899\n",
      "6     Var20     0.027779\n",
      "7     Var20     0.068921\n",
      "8     Var20    -0.073308\n",
      "9     Var20    -1.031674\n",
      "10    Var20    -0.001053\n",
      "11    Var20     0.052927\n",
      "12    Var20     0.009953\n",
      "13    Var20     0.024712\n",
      "14    Var20    -0.074581\n",
      "15    Var20    -0.072498\n",
      "16    Var20    -0.056306\n",
      "17    Var20     0.088936\n",
      "18    Var20     0.021261\n",
      "19    Var20     0.078586\n"
     ]
    }
   ],
   "source": [
    "import sklearn\n",
    "from sklearn.linear_model import LinearRegression\n",
    "from sklearn.metrics import mean_squared_error\n",
    "\n",
    "\n",
    "lm = LinearRegression()\n",
    "lm.fit(X_train, y_train)\n",
    "y_linear = lm.predict(X_test)\n",
    "y_linear\n",
    "\n",
    "\n",
    "MSE = mean_squared_error(y_test, y_linear)\n",
    "print('The MSE is', MSE)\n",
    "\n",
    "\n",
    "lm.fit(X, y)\n",
    "coefficients = lm.coef_\n",
    "# Create a DataFrame to display the coefficients with variable names\n",
    "coef_df = pd.DataFrame({'Variable': variable_name, 'Coefficient': coefficients})\n",
    "# Print the DataFrame\n",
    "print(coef_df)"
   ]
  },
  {
   "cell_type": "markdown",
   "id": "72f3152f",
   "metadata": {},
   "source": [
    "3. Fit the model with a polynomial regression with degree 2, report the MSE. Is it necessary to use polynomial regression in this case?"
   ]
  },
  {
   "cell_type": "code",
   "execution_count": 11,
   "id": "2b087f5e",
   "metadata": {},
   "outputs": [
    {
     "name": "stdout",
     "output_type": "stream",
     "text": [
      "0.3912959808588364\n"
     ]
    }
   ],
   "source": [
    "\n",
    "from sklearn.preprocessing import PolynomialFeatures\n",
    "from sklearn.metrics import mean_squared_error\n",
    "\n",
    "degree = 2\n",
    "poly_features = PolynomialFeatures(degree=degree)\n",
    "X_poly = poly_features.fit_transform(X_train)\n",
    "\n",
    "\n",
    "# Create and fit the polynomial regression model\n",
    "poly_model = LinearRegression()\n",
    "poly_model.fit(X_poly, y_train)\n",
    "\n",
    "\n",
    "X_poly_test = poly_features.fit_transform(X_test)\n",
    "y_poly_test = poly_model.predict(X_poly_test)\n",
    "\n",
    "\n",
    "MSE = mean_squared_error(y_test, y_poly_test)\n",
    "print(MSE)"
   ]
  },
  {
   "cell_type": "markdown",
   "id": "47875873",
   "metadata": {},
   "source": [
    "It would not make any sense since we can see that the linear regression MSE is much lower than this MSE "
   ]
  },
  {
   "cell_type": "markdown",
   "id": "cdd6f08d",
   "metadata": {},
   "source": [
    "4. Fit the model with a Lasso regression, tune the parameter for the penalty parameter $\\alpha$. Report the best $\\alpha$, MSE and which variables are left in the model in the end. "
   ]
  },
  {
   "cell_type": "code",
   "execution_count": 13,
   "id": "ec4dc1ee",
   "metadata": {},
   "outputs": [
    {
     "name": "stdout",
     "output_type": "stream",
     "text": [
      "0.01\n",
      "Mean Squared Error (MSE): 0.27893476514858456\n"
     ]
    }
   ],
   "source": [
    "from sklearn.model_selection import GridSearchCV\n",
    "from sklearn.linear_model import Lasso\n",
    "import numpy as np\n",
    "import pandas as pd\n",
    "import matplotlib.pyplot as plt\n",
    "from sklearn.datasets import load_breast_cancer\n",
    "from sklearn.model_selection import train_test_split\n",
    "from sklearn.linear_model import Lasso\n",
    "from sklearn.preprocessing import StandardScaler\n",
    "from sklearn.metrics import mean_squared_error\n",
    "\n",
    "# Standardize the features\n",
    "scaler = StandardScaler()\n",
    "X_train_scaled = scaler.fit_transform(X_train)\n",
    "X_test_scaled = scaler.transform(X_test)\n",
    "\n",
    "# Define a range of alpha values to tune\n",
    "alphas = [0.001, 0.01, 0.1, 1, 10, 100]\n",
    "\n",
    "\n",
    "# Create a parameter grid for GridSearchCV\n",
    "param_grid = {'alpha': alphas}\n",
    "\n",
    "\n",
    "lasso_model = Lasso()\n",
    "grid_search = GridSearchCV(lasso_model, param_grid, cv=10, scoring='neg_mean_squared_error')\n",
    "grid_search.fit(X_train_scaled, y_train)\n",
    "\n",
    "\n",
    "# Get the best alpha value from the tuning\n",
    "best_alpha = grid_search.best_params_['alpha']\n",
    "print(best_alpha)\n",
    "\n",
    "\n",
    "# Fit a Ridge regression model with the best alpha value\n",
    "lasso_model = Lasso(alpha=best_alpha)\n",
    "lasso_model.fit(X_train_scaled, y_train)\n",
    "\n",
    "\n",
    "# Make predictions on the test set\n",
    "y_pred = lasso_model.predict(X_test_scaled)\n",
    "\n",
    "\n",
    "# Calculate the Mean Squared Error (MSE) and R-squared (R2)\n",
    "mse = mean_squared_error(y_test, y_pred)\n",
    "\n",
    "\n",
    "# Print the results\n",
    "print(\"Mean Squared Error (MSE):\", mse)"
   ]
  },
  {
   "cell_type": "code",
   "execution_count": 14,
   "id": "e37ec2d0",
   "metadata": {},
   "outputs": [
    {
     "name": "stdout",
     "output_type": "stream",
     "text": [
      "   Feature  Coefficient Estimate\n",
      "0     Var1              0.566406\n",
      "1     Var2             -0.012671\n",
      "2     Var3             -0.024085\n",
      "3     Var4              0.000000\n",
      "4     Var5              0.111930\n",
      "5     Var6              0.000000\n",
      "6     Var7              0.008001\n",
      "7     Var8              0.017024\n",
      "8     Var9             -0.013400\n",
      "9    Var10             -0.306822\n",
      "10   Var11              0.000000\n",
      "11   Var12              0.012300\n",
      "12   Var13              0.000000\n",
      "13   Var14             -0.000000\n",
      "14   Var15             -0.006134\n",
      "15   Var16             -0.002697\n",
      "16   Var17             -0.016334\n",
      "17   Var18              0.025483\n",
      "18   Var19              0.013672\n",
      "19   Var20              0.024080\n"
     ]
    }
   ],
   "source": [
    "\n",
    "\n",
    "import pandas as pd\n",
    "from pandas import DataFrame\n",
    "\n",
    "\n",
    "coeff_df = DataFrame(X.columns)\n",
    "coeff_df.columns = [\"Feature\"]\n",
    "coeff_df[\"Coefficient Estimate\"] = pd.Series(lasso_model.coef_)\n",
    "print(coeff_df)\n"
   ]
  },
  {
   "cell_type": "markdown",
   "id": "d4386466",
   "metadata": {},
   "source": [
    "5. Define a new target variable $y_1$ such that $y_1$ only contains all the positive values in the $y$. Process $X$ as well. Fit the model with appropriate GLM model (not Gaussian). Report the MSE and can we compare the MSE with previous questions? Hint: it is a continous distribution. "
   ]
  },
  {
   "cell_type": "code",
   "execution_count": 68,
   "id": "9b34fe20",
   "metadata": {},
   "outputs": [
    {
     "name": "stdout",
     "output_type": "stream",
     "text": [
      "MSE for Gamma is:  0.26236130418363846\n"
     ]
    }
   ],
   "source": [
    "import statsmodels.api as sm\n",
    "from sklearn.model_selection import train_test_split\n",
    "from sklearn.metrics import mean_squared_error\n",
    "import numpy as np\n",
    "from scipy.stats import gamma\n",
    "\n",
    "new_df = X.copy()\n",
    "new_df['y'] = y\n",
    "x_y = new_df[new_df['y'] > 0]\n",
    "y1 = x_y['y']\n",
    "new_df = x_y.drop(columns = [\"y\"])\n",
    "\n",
    "\n",
    "X_train, X_test, y_train, y_test = train_test_split(new_df, y1, test_size = 0.3, \n",
    "                                                    random_state = 4400)\n",
    "\n",
    "gamma_model = sm.GLM(y_train, X_train, family = \n",
    "                     sm.families.Gamma(link = sm.families.links.log()))\n",
    "gamma_results = gamma_model.fit()\n",
    "y_pred_gamma = gamma_results.predict(X_test)\n",
    "mse_gamma = mean_squared_error(y_test, y_pred_gamma)\n",
    "\n",
    "print(\"MSE for Gamma is: \", mse_gamma)\n",
    "\n"
   ]
  },
  {
   "cell_type": "markdown",
   "id": "aefb1be7",
   "metadata": {},
   "source": [
    "6. Define a new target variable $y_2$ such that $y_2$ is a binary categorical variable. If $y$ is larger than 1, then $y_2$ is \"group1\", otherwise it is \"group2\". Fit the $y_2$ and $X$ with a logistic regression. Print the summary table with .summary(), and interpret the coefficient for variable 1.  "
   ]
  },
  {
   "cell_type": "code",
   "execution_count": 70,
   "id": "5762ddc0",
   "metadata": {},
   "outputs": [
    {
     "ename": "TypeError",
     "evalue": "'method' object does not support item assignment",
     "output_type": "error",
     "traceback": [
      "\u001b[0;31m---------------------------------------------------------------------------\u001b[0m",
      "\u001b[0;31mTypeError\u001b[0m                                 Traceback (most recent call last)",
      "\u001b[0;32m<ipython-input-70-645b4ea0881c>\u001b[0m in \u001b[0;36m<module>\u001b[0;34m\u001b[0m\n\u001b[1;32m      1\u001b[0m \u001b[0mx_y2\u001b[0m \u001b[0;34m=\u001b[0m \u001b[0mX\u001b[0m\u001b[0;34m.\u001b[0m\u001b[0mcopy\u001b[0m\u001b[0;34m\u001b[0m\u001b[0;34m\u001b[0m\u001b[0m\n\u001b[0;32m----> 2\u001b[0;31m \u001b[0mx_y2\u001b[0m\u001b[0;34m[\u001b[0m\u001b[0;34m'y2'\u001b[0m\u001b[0;34m]\u001b[0m \u001b[0;34m=\u001b[0m \u001b[0my\u001b[0m\u001b[0;34m.\u001b[0m\u001b[0mapply\u001b[0m \u001b[0;34m(\u001b[0m\u001b[0;32mlambda\u001b[0m \u001b[0mx\u001b[0m\u001b[0;34m:\u001b[0m \u001b[0;36m0\u001b[0m \u001b[0;32mif\u001b[0m \u001b[0mx\u001b[0m \u001b[0;34m>\u001b[0m \u001b[0;36m1\u001b[0m \u001b[0;32melse\u001b[0m \u001b[0;36m1\u001b[0m\u001b[0;34m)\u001b[0m\u001b[0;34m\u001b[0m\u001b[0;34m\u001b[0m\u001b[0m\n\u001b[0m\u001b[1;32m      3\u001b[0m \u001b[0mx_y2\u001b[0m \u001b[0;34m=\u001b[0m \u001b[0mx_y2\u001b[0m\u001b[0;34m[\u001b[0m\u001b[0mx_y2\u001b[0m\u001b[0;34m[\u001b[0m\u001b[0;34m'y2'\u001b[0m\u001b[0;34m]\u001b[0m \u001b[0;34m==\u001b[0m \u001b[0;36m0\u001b[0m\u001b[0;34m]\u001b[0m\u001b[0;34m\u001b[0m\u001b[0;34m\u001b[0m\u001b[0m\n\u001b[1;32m      4\u001b[0m \u001b[0;34m\u001b[0m\u001b[0m\n\u001b[1;32m      5\u001b[0m \u001b[0my2\u001b[0m \u001b[0;34m=\u001b[0m \u001b[0mx_y2\u001b[0m\u001b[0;34m[\u001b[0m\u001b[0;34m'y2'\u001b[0m\u001b[0;34m]\u001b[0m\u001b[0;34m\u001b[0m\u001b[0;34m\u001b[0m\u001b[0m\n",
      "\u001b[0;31mTypeError\u001b[0m: 'method' object does not support item assignment"
     ]
    }
   ],
   "source": [
    "x_y2 = X.copy \n",
    "x_y2['y2'] = y.apply (lambda x: 0 if x > 1 else 1)\n",
    "x_y2 = x_y2[x_y2['y2'] == 0]\n",
    "\n",
    "y2 = x_y2['y2']\n",
    "x_y2 = x_y2.drop(columns = [\"y2\"])\n",
    "X = sm.add_constant(X)\n",
    "\n",
    "X_train, X_test, y_train, y_test = train_test_split(new_df, y1, test_size = 0.3, \n",
    "                                                    random_state = 4400)\n",
    "\n",
    "model = sm.GLM(y_train, X_train, family = sm.families.Binomial())\n",
    "results = model.fit()\n",
    "y_pred = results.predict(X_test)\n",
    "MSE = mean_squared_error(y_test, y_pred)\n",
    "print(MSE)"
   ]
  },
  {
   "cell_type": "code",
   "execution_count": null,
   "id": "7e1a7ef2",
   "metadata": {},
   "outputs": [],
   "source": [
    "# Make a new dataframe with a binary column (instead of group 1 and 2) where group 1 is 0 and group2 is 1\n",
    "X_Y2 = X.copy()\n",
    "X_Y2['y2'] = y.apply(lambda x: 0 if x > 1 else 1)\n",
    "\n",
    "\n",
    "#We want to isolate the y2 (so when y is larger than 0, so the binary number 0)\n",
    "X_Y2 = X_Y2[X_Y2['y2'] == 0]\n",
    "\n",
    "#Get all the group 1 values\n",
    "y2 = X_Y2['y2']\n",
    "\n",
    "#Drop the Y column\n",
    "X_Y2 = X_Y2.drop(columns = [\"y2\"])\n",
    "\n",
    "\n",
    "X = sm.add_constant(X)"
   ]
  },
  {
   "cell_type": "markdown",
   "id": "e60df7b8",
   "metadata": {},
   "source": [
    "#### Question 2: Implement Gradient descend for Polynomial Regression\n",
    "\n",
    "Implement gradient descend method for the polynomial regression. Requirement: \n",
    "1. Write the method as a function, which is given here. Notice that it takes an input \"degree\" (and any other necessary inputs) so that we can change the degree of the polynomial. \n",
    "2. Output the cost history as well as the coefficient estimates. No need to print it or make the figures. As long as it is one of the output. \n",
    "3. Verify your function with the data in Question 1 (You may need to copy/paste and run the answer in Question 1-1 before you run the verification). No need to compare your coefficients to the ones in question 1. This step is only to make sure your functions work. You can set the degree as 2 in the verification. \n",
    "\n",
    "Hint: \n",
    "1. Don't overthinking the question. What is the difference between linear regression and polynomial regression?\n",
    "2. You may need two functions here. One for pre-processing the data, while the other one for gradient desent. You can add more if you need. Like to add another one for the cost function. \n",
    "3. When initializing the theta, think about how many coefficients you may need?"
   ]
  },
  {
   "cell_type": "code",
   "execution_count": 39,
   "id": "17f75177",
   "metadata": {},
   "outputs": [],
   "source": [
    "import numpy as np\n",
    "from sklearn.preprocessing import PolynomialFeatures\n",
    "\n",
    "def poly_function(degree, X):\n",
    "    poly = PolynomialFeatures(degree=degree)\n",
    "    X_poly = poly.fit_transform(X)\n",
    "    return X_poly\n",
    "\n",
    "def compute_cost(X, y, theta):\n",
    "    m = len(y)\n",
    "    predictions = np.dot(X, theta)\n",
    "    cost = (1 / (2 * m)) * np.sum(np.square(predictions - y))\n",
    "    return cost\n",
    "\n",
    "def gradient_descent(X, y, num_iterations, learning_rate, degree):\n",
    "    m, n = X.shape\n",
    "    theta = np.zeros(n)\n",
    "    cost_history = np.zeros(num_iterations)\n",
    "\n",
    "    for i in range(num_iterations):\n",
    "        predictions = np.dot(X, theta)\n",
    "        errors = predictions - y\n",
    "        gradient = (1 / m) * np.dot(X.T, errors)\n",
    "        theta -= learning_rate * gradient\n",
    "        cost_history[i] = compute_cost(X, y, theta)\n",
    "\n",
    "    return theta, cost_history\n",
    "\n",
    "\n"
   ]
  },
  {
   "cell_type": "code",
   "execution_count": 53,
   "id": "8c5a77e2",
   "metadata": {},
   "outputs": [],
   "source": [
    "import numpy as np\n",
    "import pandas as pd\n",
    "\n",
    "# Set a random seed for reproducibility\n",
    "np.random.seed(4400)\n",
    "\n",
    "# Number of samples\n",
    "num_samples = 1000\n",
    "\n",
    "# Create 20 random variables\n",
    "X = pd.DataFrame()\n",
    "for i in np.arange(1, 21):\n",
    "    variable_name = f\"Var{i}\"\n",
    "    X[variable_name] = np.random.rand(1000)\n",
    "\n",
    "# Create a target variable based on some combination of the 20 variables\n",
    "y = (2 * X[\"Var1\"] + 0.5 * X[\"Var5\"] - 1 * X[\"Var10\"] + np.random.normal(0, 0.5, num_samples)  # Add some noise\n",
    "    )\n",
    "\n",
    "degree = 2\n",
    "X_poly = poly_function(degree, X)\n",
    "theta, cost_history = gradient_descent(X_poly, y, num_iterations=1000, learning_rate=0.01, degree=degree)\n",
    "\n",
    "\n",
    "\n"
   ]
  },
  {
   "cell_type": "markdown",
   "id": "24d09d29",
   "metadata": {},
   "source": [
    "#### Question 3: Simulation study"
   ]
  },
  {
   "cell_type": "markdown",
   "id": "fe7d7428",
   "metadata": {},
   "source": [
    "Following is a simulation study. In the second code chuck, please correctly label the xlabel and ylabel for the plot. Also explain what this code is trying to do and what you have learned from the generated figure. \n",
    "\n",
    "Hint: in the simulation data, there are 200 observations and it is fixed for each trial. After spliting the training and testing data, each one will have 100 observations. "
   ]
  },
  {
   "cell_type": "code",
   "execution_count": 45,
   "id": "b6315271",
   "metadata": {},
   "outputs": [],
   "source": [
    "from sklearn.linear_model import LinearRegression\n",
    "from sklearn.metrics import mean_squared_error\n",
    "from sklearn.model_selection import train_test_split\n",
    "import matplotlib.pyplot as plt\n",
    "import pandas as pd\n",
    "import numpy as np\n",
    "\n",
    "np.random.seed(83)\n",
    "A = np.arange(5,101,1)\n",
    "B = []\n",
    "\n",
    "for p in A:\n",
    "    \n",
    "    X = pd.DataFrame()\n",
    "    for i in np.arange(1, p+1):\n",
    "        variable_name = f\"Var{i}\"\n",
    "        X[variable_name] = np.random.rand(200)\n",
    "\n",
    "    y = 2 * X[\"Var1\"] - 0.5 * X[\"Var5\"] + np.random.normal(0, 0.5, 200)\n",
    "\n",
    "    X_train, X_test, y_train, y_test = train_test_split(X, y, \n",
    "                                                        test_size=0.5, \n",
    "                                                        random_state=83)\n",
    "    \n",
    "    lm = LinearRegression()\n",
    "    lm.fit(X_train, y_train)\n",
    "    y_pred = lm.predict(X_test)\n",
    "    value = mean_squared_error(y_test, y_pred)\n",
    "    B.append(value)"
   ]
  },
  {
   "cell_type": "code",
   "execution_count": 46,
   "id": "20689577",
   "metadata": {},
   "outputs": [
    {
     "data": {
      "image/png": "[encoded data removed]",
      "text/plain": [
       "<Figure size 432x288 with 1 Axes>"
      ]
     },
     "metadata": {
      "needs_background": "light"
     },
     "output_type": "display_data"
    }
   ],
   "source": [
    "plt.plot(A, B)\n",
    "plt.xlabel(\"Number of variables (p)\")\n",
    "plt.ylabel(\"Mean squared errors (MSE)\")\n",
    "plt.show()"
   ]
  },
  {
   "cell_type": "markdown",
   "id": "f66846ef",
   "metadata": {},
   "source": [
    "In this graph we can see that MSE is calculated and it is added to a new list called B. We can see that the MSE is calculated for each of the variable and then added to it. So we can say that Column B is a list of Mean Squared Errors and lis A is a random variable from 5 to 100. What we can see in this graph is a line graph that shows how the MSE icreases as more variables are added to the dataset. It makes us understand that adding more variables to the model affects its predictive accuracy."
   ]
  },
  {
   "cell_type": "code",
   "execution_count": null,
   "id": "514f75a6",
   "metadata": {},
   "outputs": [],
   "source": []
  }
 ],
 "metadata": {
  "kernelspec": {
   "display_name": "Python 3",
   "language": "python",
   "name": "python3"
  },
  "language_info": {
   "codemirror_mode": {
    "name": "ipython",
    "version": 3
   },
   "file_extension": ".py",
   "mimetype": "text/x-python",
   "name": "python",
   "nbconvert_exporter": "python",
   "pygments_lexer": "ipython3",
   "version": "3.8.5"
  }
 },
 "nbformat": 4,
 "nbformat_minor": 5
}
